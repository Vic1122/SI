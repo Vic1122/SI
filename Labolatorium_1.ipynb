{
 "cells": [
  {
   "cell_type": "code",
   "execution_count": 260,
   "metadata": {
    "collapsed": true,
    "pycharm": {
     "is_executing": false
    }
   },
   "outputs": [],
   "source": [
    "import pandas as pd\n",
    "import numpy as np\n",
    "import matplotlib.pyplot as plt\n",
    "import requests\n",
    "import json\n",
    "from pandas import read_json\n",
    "\n",
    "#Funkcja wywołująca zadana walutę w wybranym przedziale czasowym\n",
    "def getTables(currency, startDate, endDate):\n",
    "    getCurrencyRequest = requests.get('http://api.nbp.pl/api/exchangerates/rates/A/'+currency+'/'+startDate+'/'+endDate+'/')\n",
    "    currencyData = getCurrencyRequest.json()['rates']\n",
    "    prettyJson = json.dumps(currencyData,indent=4, sort_keys=True)\n",
    "    return prettyJson"
   ]
  },
  {
   "cell_type": "code",
   "execution_count": 261,
   "outputs": [],
   "source": [
    "#Wywołanie funkcji\n",
    "dollarsTables = getTables('USD', '2019-09-01', '2019-09-30')\n",
    "euroTables = getTables('EUR', '2019-09-01', '2019-09-30')"
   ],
   "metadata": {
    "collapsed": false,
    "pycharm": {
     "name": "#%%\n",
     "is_executing": false
    }
   }
  },
  {
   "cell_type": "code",
   "execution_count": 262,
   "outputs": [],
   "source": [
    "#Ustawianie formatu daty, kodowania\n",
    "dollarData = pd.DataFrame.from_dict(read_json(dollarsTables, convert_dates= True, encoding=\"UTF-8\"))\n",
    "euroData = pd.DataFrame.from_dict(read_json(euroTables, convert_dates= True, encoding=\"UTF-8\"))\n"
   ],
   "metadata": {
    "collapsed": false,
    "pycharm": {
     "name": "#%%\n",
     "is_executing": false
    }
   }
  },
  {
   "cell_type": "code",
   "execution_count": 263,
   "outputs": [
    {
     "name": "stdout",
     "text": [
      "                                  no\neffectiveDate mid                   \n2019-09-02    4.3691  169/A/NBP/2019\n2019-09-03    4.3667  170/A/NBP/2019\n2019-09-04    4.3385  171/A/NBP/2019\n2019-09-05    4.3409  172/A/NBP/2019\n2019-09-06    4.3392  173/A/NBP/2019\n2019-09-09    4.3373  174/A/NBP/2019\n2019-09-10    4.3350  175/A/NBP/2019\n2019-09-11    4.3357  176/A/NBP/2019\n2019-09-12    4.3400  177/A/NBP/2019\n2019-09-13    4.3396  178/A/NBP/2019\n2019-09-16    4.3262  179/A/NBP/2019\n2019-09-17    4.3410  180/A/NBP/2019\n2019-09-18    4.3419  181/A/NBP/2019\n2019-09-19    4.3425  182/A/NBP/2019\n2019-09-20    4.3438  183/A/NBP/2019\n2019-09-23    4.3891  184/A/NBP/2019\n2019-09-24    4.3796  185/A/NBP/2019\n2019-09-25    4.3844  186/A/NBP/2019\n2019-09-26    4.3861  187/A/NBP/2019\n2019-09-27    4.3866  188/A/NBP/2019\n2019-09-30    4.3736  189/A/NBP/2019\n                  mid              no\neffectiveDate                        \n2019-09-02     3.9819  169/A/NBP/2019\n2019-09-03     3.9882  170/A/NBP/2019\n2019-09-04     3.9414  171/A/NBP/2019\n2019-09-05     3.9330  172/A/NBP/2019\n2019-09-06     3.9315  173/A/NBP/2019\n2019-09-09     3.9310  174/A/NBP/2019\n2019-09-10     3.9273  175/A/NBP/2019\n2019-09-11     3.9324  176/A/NBP/2019\n2019-09-12     3.9362  177/A/NBP/2019\n2019-09-13     3.9120  178/A/NBP/2019\n2019-09-16     3.9116  179/A/NBP/2019\n2019-09-17     3.9412  180/A/NBP/2019\n2019-09-18     3.9322  181/A/NBP/2019\n2019-09-19     3.9267  182/A/NBP/2019\n2019-09-20     3.9319  183/A/NBP/2019\n2019-09-23     3.9983  184/A/NBP/2019\n2019-09-24     3.9838  185/A/NBP/2019\n2019-09-25     3.9856  186/A/NBP/2019\n2019-09-26     4.0092  187/A/NBP/2019\n2019-09-27     4.0154  188/A/NBP/2019\n2019-09-30     4.0000  189/A/NBP/2019\n"
     ],
     "output_type": "stream"
    }
   ],
   "source": [
    "#Ustawianie indeksu na kolumnie z datą i wartością \n",
    "euroData.set_index([\"effectiveDate\", \"mid\"])\n",
    "dollarData.set_index(\"effectiveDate\", \"mid\")\n"
   ],
   "metadata": {
    "collapsed": false,
    "pycharm": {
     "name": "#%%\n",
     "is_executing": false
    }
   }
  },
  {
   "cell_type": "code",
   "execution_count": 264,
   "outputs": [
    {
     "data": {
      "text/plain": "array([[1.        , 0.95958617],\n       [0.95958617, 1.        ]])"
     },
     "metadata": {},
     "output_type": "execute_result",
     "execution_count": 264
    }
   ],
   "source": [
    "#wyliczanie korelacji między walutami\n",
    "np.corrcoef(dollarData['mid'], euroData['mid'])"
   ],
   "metadata": {
    "collapsed": false,
    "pycharm": {
     "name": "#%%\n",
     "is_executing": false
    }
   }
  },
  {
   "cell_type": "code",
   "execution_count": 265,
   "outputs": [
    {
     "data": {
      "text/plain": "[<matplotlib.lines.Line2D at 0x1823163e308>]"
     },
     "metadata": {},
     "output_type": "execute_result",
     "execution_count": 265
    },
    {
     "data": {
      "text/plain": "<Figure size 432x288 with 2 Axes>",
      "image/png": "[encoded data removed]"
     },
     "metadata": {
      "needs_background": "light"
     },
     "output_type": "display_data"
    }
   ],
   "source": [
    "#wykresy z walutami\n",
    "fig, (ax1, ax2) = plt.subplots(2, sharex=True)\n",
    "fig.suptitle('Porównanie walut')\n",
    "ax1.plot(dollarData['effectiveDate'], dollarData['mid'],'tab:red')\n",
    "ax2.plot(euroData['effectiveDate'], euroData['mid'])"
   ],
   "metadata": {
    "collapsed": false,
    "pycharm": {
     "name": "#%%\n",
     "is_executing": false
    }
   }
  }
 ],
 "metadata": {
  "kernelspec": {
   "display_name": "Python 3",
   "language": "python",
   "name": "python3"
  },
  "language_info": {
   "codemirror_mode": {
    "name": "ipython",
    "version": 2
   },
   "file_extension": ".py",
   "mimetype": "text/x-python",
   "name": "python",
   "nbconvert_exporter": "python",
   "pygments_lexer": "ipython2",
   "version": "2.7.6"
  },
  "pycharm": {
   "stem_cell": {
    "cell_type": "raw",
    "source": [],
    "metadata": {
     "collapsed": false
    }
   }
  }
 },
 "nbformat": 4,
 "nbformat_minor": 0
}